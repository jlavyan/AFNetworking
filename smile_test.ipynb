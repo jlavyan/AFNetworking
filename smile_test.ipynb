{
  "cells": [
    {
      "cell_type": "markdown",
      "metadata": {
        "id": "view-in-github",
        "colab_type": "text"
      },
      "source": [
        "<a href=\"https://colab.research.google.com/github/jlavyan/AFNetworking/blob/master/smile_test.ipynb\" target=\"_parent\"><img src=\"https://colab.research.google.com/assets/colab-badge.svg\" alt=\"Open In Colab\"/></a>"
      ]
    },
    {
      "cell_type": "markdown",
      "metadata": {
        "id": "L7iL4J4aZSpk"
      },
      "source": [
        "Smile Test"
      ]
    },
    {
      "cell_type": "code",
      "execution_count": null,
      "metadata": {
        "id": "ny7OpdE0bL5u"
      },
      "outputs": [],
      "source": [
        "\n",
        "\n",
        "# install required modules\n",
        "\n",
        "!pip install -U -q PyDrive"
      ]
    },
    {
      "cell_type": "code",
      "execution_count": null,
      "metadata": {
        "colab": {
          "base_uri": "https://localhost:8080/"
        },
        "id": "mHCBvfORbL5u",
        "outputId": "2c001d30-6c8f-409b-da76-630965c802d4"
      },
      "outputs": [
        {
          "output_type": "stream",
          "name": "stderr",
          "text": [
            "WARNING:root:pydrive is deprecated and no longer maintained. We recommend that you migrate your projects to pydrive2, the maintained fork of pydrive\n"
          ]
        }
      ],
      "source": [
        "# import required modules\n",
        "\n",
        "import argparse\n",
        "import torch\n",
        "import pandas as pd\n",
        "import torch.nn as nn\n",
        "import torch.nn.functional as F\n",
        "from google.colab import drive\n",
        "from pydrive.auth import GoogleAuth\n",
        "from pydrive.drive import GoogleDrive\n",
        "from google.colab import auth\n",
        "from oauth2client.client import GoogleCredentials"
      ]
    },
    {
      "cell_type": "code",
      "execution_count": null,
      "metadata": {
        "id": "4PVS_VYnbL5u"
      },
      "outputs": [],
      "source": [
        "# Define the model class\n",
        "\n",
        "class BinaryClassifier(nn.Module):\n",
        "    def __init__(self, input_size):\n",
        "        super(BinaryClassifier, self).__init__()\n",
        "        self.fc1 = nn.Linear(input_size, 10)  # Now dynamic, based on input_size\n",
        "        self.fc2 = nn.Linear(10, 2)\n",
        "\n",
        "    def forward(self, x):\n",
        "        x = F.relu(self.fc1(x))\n",
        "        x = self.fc2(x)\n",
        "        return x\n",
        "\n",
        "    def predict(self, x):\n",
        "        # This method can be used during inference to obtain probabilities\n",
        "        x = self.forward(x)\n",
        "        return torch.softmax(x, dim=1)"
      ]
    },
    {
      "cell_type": "code",
      "execution_count": null,
      "metadata": {
        "colab": {
          "base_uri": "https://localhost:8080/"
        },
        "id": "BUNeXf1sbL5u",
        "outputId": "38585fcb-942b-4016-8a12-0fe4d00b6dc6"
      },
      "outputs": [
        {
          "output_type": "stream",
          "name": "stdout",
          "text": [
            "Mounted at /content/gdrive/\n"
          ]
        }
      ],
      "source": [
        "\n",
        "# Mount Google Drive to access the input file and model file\n",
        "drive.mount(\"/content/gdrive/\", force_remount=True)"
      ]
    },
    {
      "cell_type": "code",
      "execution_count": null,
      "metadata": {
        "id": "Oc-XbFQpbL5v"
      },
      "outputs": [],
      "source": [
        "\n",
        "# Define the input file and model file names\n",
        "input_file = 'input_file.csv'\n",
        "model_file = 'model.pth'\n",
        "\n",
        "# Authenticate and create the PyDrive client\n",
        "auth.authenticate_user()\n",
        "gauth = GoogleAuth()\n",
        "gauth.credentials = GoogleCredentials.get_application_default()\n",
        "drive = GoogleDrive(gauth)\n",
        "\n",
        "# Load the input file and model file from Google Drive\n",
        "fileCsv = drive.CreateFile({'id':'1b50V1NzkAejK0WhMSqIHZZOwrLSsvjur'})\n",
        "fileCsv.GetContentFile(input_file)\n",
        "\n",
        "fileModel = drive.CreateFile({'id':'13-DUV7X6iZNXBOZekg9zoigLZ9rHivn4'})\n",
        "fileModel.GetContentFile(model_file)"
      ]
    },
    {
      "cell_type": "code",
      "execution_count": null,
      "metadata": {
        "id": "nN9rKQdeZXy1",
        "colab": {
          "base_uri": "https://localhost:8080/"
        },
        "outputId": "169b9d7f-fc1e-4480-f379-f56ac69132ae"
      },
      "outputs": [
        {
          "output_type": "stream",
          "name": "stdout",
          "text": [
            "Predictions: tensor([1, 0, 1,  ..., 0, 0, 1])\n",
            "Actual Labels: tensor([1, 0, 1,  ..., 0, 0, 1])\n",
            "Overall Accuracy: 90.15%\n",
            "Accuracy for Detected Positives: 89.06%\n"
          ]
        }
      ],
      "source": [
        "\n",
        "# Load the input file into a Pandas DataFrame\n",
        "df = pd.read_csv(input_file)\n",
        "\n",
        "# Automatically determine feature columns by excluding 'Smiling'\n",
        "features_columns = df.columns[df.columns != 'Smiling']\n",
        "num_features = len(features_columns)  # Determine the number of feature columns dynamically\n",
        "\n",
        "# Load the model with the correct input feature size\n",
        "read_model = BinaryClassifier(input_size=num_features)\n",
        "read_model.load_state_dict(torch.load(model_file))\n",
        "read_model.eval()\n",
        "\n",
        "# Separate features and labels\n",
        "features = df[features_columns]\n",
        "labels = df['Smiling'].replace(-1, 0)  # Replace -1 with 0 in the label column\n",
        "\n",
        "# Convert features and labels to PyTorch Tensors\n",
        "inputs = torch.tensor(features.values).float()\n",
        "actual_labels = torch.tensor(labels.values).long()  # Assuming labels are integer classes\n",
        "\n",
        "# Evaluate the model\n",
        "with torch.no_grad():  # No need to track gradients during evaluation\n",
        "    outputs = read_model(inputs)\n",
        "    _, predicted = torch.max(outputs, 1)  # Get the index of the max log-probability\n",
        "\n",
        "# Compare predictions to actual labels\n",
        "correct_predictions = (predicted == actual_labels).sum().item()\n",
        "total_predictions = predicted.size(0)\n",
        "accuracy = correct_predictions / total_predictions * 100\n",
        "\n",
        "# Specific accuracy for positive detections\n",
        "positive_label = 1  # Assuming '1' is the label for 'Smiling'\n",
        "true_positive = ((predicted == positive_label) & (actual_labels == positive_label)).sum().item()\n",
        "possible_positives = (actual_labels == positive_label).sum().item()\n",
        "\n",
        "if possible_positives > 0:\n",
        "    accuracy_positives = true_positive / possible_positives * 100\n",
        "else:\n",
        "    accuracy_positives = 0.0\n",
        "\n",
        "# Print or process predictions and accuracy\n",
        "print(\"Predictions:\", predicted)\n",
        "print(\"Actual Labels:\", actual_labels)\n",
        "print(f\"Overall Accuracy: {accuracy:.2f}%\")\n",
        "print(f\"Accuracy for Detected Positives: {accuracy_positives:.2f}%\")"
      ]
    }
  ],
  "metadata": {
    "colab": {
      "provenance": [],
      "include_colab_link": true
    },
    "kernelspec": {
      "display_name": "Python 3",
      "name": "python3"
    },
    "language_info": {
      "name": "python"
    }
  },
  "nbformat": 4,
  "nbformat_minor": 0
}